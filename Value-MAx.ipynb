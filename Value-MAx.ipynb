{
  "nbformat": 4,
  "nbformat_minor": 0,
  "metadata": {
    "colab": {
      "provenance": [],
      "authorship_tag": "ABX9TyOkUYj4vC/lOwBY38txqQ12",
      "include_colab_link": true
    },
    "kernelspec": {
      "name": "python3",
      "display_name": "Python 3"
    },
    "language_info": {
      "name": "python"
    }
  },
  "cells": [
    {
      "cell_type": "markdown",
      "metadata": {
        "id": "view-in-github",
        "colab_type": "text"
      },
      "source": [
        "<a href=\"https://colab.research.google.com/github/kaderkhitri/MyProject/blob/main/Value-MAx.ipynb\" target=\"_parent\"><img src=\"https://colab.research.google.com/assets/colab-badge.svg\" alt=\"Open In Colab\"/></a>"
      ]
    },
    {
      "cell_type": "code",
      "execution_count": null,
      "metadata": {
        "id": "voD68HGTdS8O"
      },
      "outputs": [],
      "source": [
        "list1=[200,100,305]\n",
        "for i1 in list1:\n",
        "    #print(i1)\n",
        "    max=i1\n",
        "    list2=[200,100,305]\n",
        "    for i2 in list2:\n",
        "        if max < i2:\n",
        "            max=i2\n",
        "        \n",
        "    \n",
        "print(\"La valeur maximal est :\",max)"
      ]
    }
  ]
}